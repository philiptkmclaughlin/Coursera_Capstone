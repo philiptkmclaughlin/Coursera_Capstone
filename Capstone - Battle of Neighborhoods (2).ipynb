{
 "cells": [
  {
   "cell_type": "markdown",
   "metadata": {},
   "source": [
    "# Capstone 'Battle of the Neighborhoods' Final Project\n",
    "<hr></hr>\n",
    "\n",
    "##### Description of the Problem\n",
    "\n",
    "For my final project, I will be helping to locate an Afghan restaurant in Toronto, Canada. I noticed in the Foursquare data used earlier in this course that there was a category for Afghan restaurants, and upon further research from the <a href=\"https://www.thecanadianencyclopedia.ca/en/article/afghan-canadians\">Canadian Encyclopedia</a> I discovered that many of Canada's 84,000 Afghans live in the Toronto area. As I did not, upon cursory notice, discover a plethora of Afghan restaurants in Toronto, I wondered if the area would be a good market for such a restaurant. Minority ethnic groups, especially recent migrants, often due not have access to the cuisines of their ancestral lands outside of their homes. Restaurants provide a cultural connection to food and foster a sense of community within a neighborhood. As such, this project will try to focus on finding the best area to open an Afghan restaurant for the growing Afghan-Canadian population. The target audience for this would be potential investors or restauranteurs who are looking to open a restaurant catering to the Afghan-Canadian community.\n",
    "\n",
    "##### Research Question\n",
    "\n",
    "The question I will be exploring is: <i>Is Toronto a good market for an Afghan restaurant? What neighborhood would best support such a restaurant?</i>\n",
    "\n",
    "##### Data to be used in Collection and Analysis\n",
    "\n",
    "To do this I will use data from the following sources:\n",
    "<ul>\n",
    "    <li><b>Foursquare</b> - to get location data for the neighborhoods and existing Afghan restaurants. Foursquare provides data through an API, which I will make calls to in order to get data on the numbers and types of venues in certain neighborhoods, as well as their location data. I can use this data to geolocate Afghan restaurants in Toronto in order to see if there are any areas that are saturated with them, or lacking them. This data is both categorical and numeric in nature, though I will be focusing specifically on location data for geocoding (numeric, continuous), categorical data for the restaurant (e.g. 'Afghan Restaurant'), and numeric data on the frequency of these restaurants per neighborhood (numeric, continuous). </li>\n",
    "    <li><a href=\"https://www150.statcan.gc.ca/n1/en/geo?MM=1&geotext=Toronto,%20City%20%5BCensus%20subdivision%5D,%20Ontario&geocode=A00053520005\"><b>Canadian Census Wealth Data</b></a> - to get data on wealth indicators for Toronto to see if there is enough capital to support a business. As a wealth indicator I will be using home assessed values, which are strongly connected to the desirability and wealth of a neighborhood. Homes as assets are sources of wealth, and will be able to demonstrate areas where there is enough social capital to develop a restaurant. This data is provided online in machine readable formats, so I will probably use it as a CSV and enter it into pandas. This data is numeric and continuous in form, and has some geographic information that I can use to tie to underlying Toronto districts.</li>\n",
    "    <li><a href=\"https://www150.statcan.gc.ca/n1/en/geo?geocode=S0503535&subject_levels=43&geotext=Toronto%20%5BCensus%20metropolitan%20area%5D%2C%20Ontario\"><b>Canadian Census Demographic Data</b></a> - to get information on where Afghans might be living in the Toronto area so as to figure out where a potential market for the business might be. This data provides numbers on different ethnic groups in the Toronto area, so I will be able to utilize it to figure out what areas Afghans are living in. If I find a specific neighborhood, joined to this data, that has a high number of Afghan-Canadians then it would be considered a prime market for this restaurant. This data is numeric in form, though the key is categorical in nature (e.g. ethnicity would be 'Afghan' or 'Irish'). I can use the numeric, continuous data, \n",
    "</ul>\n",
    "\n",
    "This data will enable me to provide market analysis to find out if there is a neighborhood in Toronto that would be best for an Afghan restaurant. If there is not, this analysis will warn against such a decision."
   ]
  }
 ],
 "metadata": {
  "kernelspec": {
   "display_name": "Python",
   "language": "python",
   "name": "conda-env-python-py"
  },
  "language_info": {
   "codemirror_mode": {
    "name": "ipython",
    "version": 3
   },
   "file_extension": ".py",
   "mimetype": "text/x-python",
   "name": "python",
   "nbconvert_exporter": "python",
   "pygments_lexer": "ipython3",
   "version": "3.6.7"
  }
 },
 "nbformat": 4,
 "nbformat_minor": 4
}
