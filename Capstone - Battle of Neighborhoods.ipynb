{
 "cells": [
  {
   "cell_type": "markdown",
   "metadata": {},
   "source": [
    "# Capstone 'Battle of the Neighborhoods' Final Project\n",
    "<hr></hr>\n",
    "\n",
    "For my final project, I will be helping to locate an Afghan restaurant in Toronto, Canada. I noticed in the Foursquare data used earlier in this course that there was a category for Afghan restaurants, and upon further research from the <a href=\"https://www.thecanadianencyclopedia.ca/en/article/afghan-canadians\">Canadian Encyclopedia</a> I discovered that many of Canada's 84,000 Afghans live in the Toronto area. As I did not, upon cursory notice, discover a plethora of Afghan restaurants in Toronto, I wondered if the area would be a good market for such a restaurant. \n",
    "\n",
    "The question I will be exploring is: <i>Is Toronto a good market for an Afghan restaurant? What neighborhood would best support such a restaurant?</i>\n",
    "\n",
    "To do this I will use data from the following sources:\n",
    "<ul>\n",
    "    <li>Foursquare - to get location data for the neighborhoods and existing Afghan restaurants</li>\n",
    "    <li><a href=\"https://www150.statcan.gc.ca/n1/en/geo?MM=1&geotext=Toronto,%20City%20%5BCensus%20subdivision%5D,%20Ontario&geocode=A00053520005\">Canadian Census Wealth Data</a> - to get data on wealth indicators for Toronto to see if there is enough capital to support a business</li>\n",
    "    <li><a href=\"https://www150.statcan.gc.ca/n1/en/geo?geocode=S0503535&subject_levels=43&geotext=Toronto%20%5BCensus%20metropolitan%20area%5D%2C%20Ontario\">Canadian Census Demographic Data</a> - to get information on where Afghans might be living in the Toronto area so as to figure out where a potential market for the business might be.\n",
    "</ul>\n",
    "\n",
    "This data will enable me to provide market analysis to find out if there is a neighborhood in Toronto that would be best for an Afghan restaurant. If there is not, this analysis will warn against such a decision."
   ]
  },
  {
   "cell_type": "code",
   "execution_count": null,
   "metadata": {},
   "outputs": [],
   "source": []
  }
 ],
 "metadata": {
  "kernelspec": {
   "display_name": "Python",
   "language": "python",
   "name": "conda-env-python-py"
  },
  "language_info": {
   "codemirror_mode": {
    "name": "ipython",
    "version": 3
   },
   "file_extension": ".py",
   "mimetype": "text/x-python",
   "name": "python",
   "nbconvert_exporter": "python",
   "pygments_lexer": "ipython3",
   "version": "3.6.7"
  }
 },
 "nbformat": 4,
 "nbformat_minor": 4
}
